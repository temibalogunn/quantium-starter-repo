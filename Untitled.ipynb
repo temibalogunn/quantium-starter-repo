{
 "cells": [
  {
   "cell_type": "code",
   "execution_count": 68,
   "id": "cc869328-03a3-4911-b03a-3dfb26481c0c",
   "metadata": {},
   "outputs": [],
   "source": [
    "import csv\n",
    "import pandas as pd\n",
    "import glob"
   ]
  },
  {
   "cell_type": "code",
   "execution_count": 80,
   "id": "90ffb1aa-cb3b-49c0-91ea-a301ebb895f2",
   "metadata": {},
   "outputs": [
    {
     "data": {
      "text/plain": [
       "[        sales        date region\n",
       " 0      1635.0  2019-06-11  north\n",
       " 1      1563.0  2019-06-11  south\n",
       " 2      1785.0  2019-06-11   east\n",
       " 3      1521.0  2019-06-11   west\n",
       " 28     1728.0  2019-06-12  north\n",
       " ...       ...         ...    ...\n",
       " 13667  1536.0  2020-10-11   west\n",
       " 13692  1677.0  2020-10-12  north\n",
       " 13693  1605.0  2020-10-12  south\n",
       " 13694  1653.0  2020-10-12   east\n",
       " 13695  1749.0  2020-10-12   west\n",
       " \n",
       " [1960 rows x 3 columns]]"
      ]
     },
     "execution_count": 80,
     "metadata": {},
     "output_type": "execute_result"
    }
   ],
   "source": [
    "csv_files = glob.glob(\"data/*.csv\")\n",
    "\n",
    "dfs = []\n",
    "for file in csv_files:\n",
    "    df = pd.read_csv(file)\n",
    "    df= df[df[\"product\"] == \"pink morsel\"]\n",
    "    df[\"price\"] = df[\"price\"].replace('[$]', '', regex=True)\n",
    "    df[\"price\"] = pd.to_numeric(df[\"price\"], errors=\"coerce\")\n",
    "    df[\"sales\"] = df[\"price\"] * df[\"quantity\"]\n",
    "    df = df[[\"sales\", \"date\", \"region\"]]\n",
    "\n",
    "dfs.append(df)\n",
    "final_df = pd.concat(dfs, ignore_index=True)\n",
    "dfs"
   ]
  },
  {
   "cell_type": "code",
   "execution_count": null,
   "id": "fb713b41-1a38-4de4-8f38-ddf487cf9f42",
   "metadata": {},
   "outputs": [],
   "source": []
  }
 ],
 "metadata": {
  "kernelspec": {
   "display_name": "Python [conda env:base] *",
   "language": "python",
   "name": "conda-base-py"
  },
  "language_info": {
   "codemirror_mode": {
    "name": "ipython",
    "version": 3
   },
   "file_extension": ".py",
   "mimetype": "text/x-python",
   "name": "python",
   "nbconvert_exporter": "python",
   "pygments_lexer": "ipython3",
   "version": "3.12.7"
  }
 },
 "nbformat": 4,
 "nbformat_minor": 5
}
